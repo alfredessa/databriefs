{
 "cells": [
  {
   "cell_type": "markdown",
   "id": "b36cbe2e",
   "metadata": {},
   "source": [
    "# 1. Import Libraries"
   ]
  },
  {
   "cell_type": "code",
   "execution_count": 1,
   "id": "a2eb6fbc",
   "metadata": {},
   "outputs": [],
   "source": [
    "# import pandas, numpy, and matplotlib libraries\n",
    "import pandas as pd\n",
    "import numpy as np\n",
    "import matplotlib.pyplot as plt"
   ]
  },
  {
   "cell_type": "markdown",
   "id": "0a62f575",
   "metadata": {},
   "source": [
    "# 2. Import Loans Data Set"
   ]
  },
  {
   "cell_type": "code",
   "execution_count": 2,
   "id": "157a8c5a",
   "metadata": {},
   "outputs": [],
   "source": [
    "# import csv vile into pandas data frame\n",
    "df = pd.read_csv(\"data/loan_totals.csv\",index_col='Institution').drop('UnitID',axis=1)"
   ]
  },
  {
   "cell_type": "code",
   "execution_count": 3,
   "id": "deffed3f",
   "metadata": {},
   "outputs": [
    {
     "data": {
      "text/html": [
       "<div>\n",
       "<style scoped>\n",
       "    .dataframe tbody tr th:only-of-type {\n",
       "        vertical-align: middle;\n",
       "    }\n",
       "\n",
       "    .dataframe tbody tr th {\n",
       "        vertical-align: top;\n",
       "    }\n",
       "\n",
       "    .dataframe thead th {\n",
       "        text-align: right;\n",
       "    }\n",
       "</style>\n",
       "<table border=\"1\" class=\"dataframe\">\n",
       "  <thead>\n",
       "    <tr style=\"text-align: right;\">\n",
       "      <th></th>\n",
       "      <th>LOAN2020</th>\n",
       "      <th>LOAN2019</th>\n",
       "      <th>LOAN2018</th>\n",
       "      <th>LOAN2017</th>\n",
       "      <th>LOAN2016</th>\n",
       "      <th>LOAN2015</th>\n",
       "      <th>LOAN2014</th>\n",
       "      <th>LOAN2013</th>\n",
       "      <th>LOAN2012</th>\n",
       "      <th>LOAN2011</th>\n",
       "      <th>LOAN2010</th>\n",
       "      <th>LOAN2009</th>\n",
       "      <th>LOAN2008</th>\n",
       "    </tr>\n",
       "    <tr>\n",
       "      <th>Institution</th>\n",
       "      <th></th>\n",
       "      <th></th>\n",
       "      <th></th>\n",
       "      <th></th>\n",
       "      <th></th>\n",
       "      <th></th>\n",
       "      <th></th>\n",
       "      <th></th>\n",
       "      <th></th>\n",
       "      <th></th>\n",
       "      <th></th>\n",
       "      <th></th>\n",
       "      <th></th>\n",
       "    </tr>\n",
       "  </thead>\n",
       "  <tbody>\n",
       "    <tr>\n",
       "      <th>A Better U Beauty Barber Academy</th>\n",
       "      <td>259121.0</td>\n",
       "      <td>145899.0</td>\n",
       "      <td>NaN</td>\n",
       "      <td>NaN</td>\n",
       "      <td>NaN</td>\n",
       "      <td>NaN</td>\n",
       "      <td>NaN</td>\n",
       "      <td>NaN</td>\n",
       "      <td>NaN</td>\n",
       "      <td>NaN</td>\n",
       "      <td>NaN</td>\n",
       "      <td>NaN</td>\n",
       "      <td>NaN</td>\n",
       "    </tr>\n",
       "    <tr>\n",
       "      <th>A T Still University of Health Sciences</th>\n",
       "      <td>NaN</td>\n",
       "      <td>NaN</td>\n",
       "      <td>NaN</td>\n",
       "      <td>NaN</td>\n",
       "      <td>NaN</td>\n",
       "      <td>NaN</td>\n",
       "      <td>NaN</td>\n",
       "      <td>NaN</td>\n",
       "      <td>NaN</td>\n",
       "      <td>NaN</td>\n",
       "      <td>NaN</td>\n",
       "      <td>NaN</td>\n",
       "      <td>NaN</td>\n",
       "    </tr>\n",
       "    <tr>\n",
       "      <th>Aaniiih Nakoda College</th>\n",
       "      <td>0.0</td>\n",
       "      <td>0.0</td>\n",
       "      <td>0.0</td>\n",
       "      <td>0.0</td>\n",
       "      <td>0.0</td>\n",
       "      <td>0.0</td>\n",
       "      <td>0.0</td>\n",
       "      <td>0.0</td>\n",
       "      <td>0.0</td>\n",
       "      <td>0.0</td>\n",
       "      <td>0.0</td>\n",
       "      <td>0.0</td>\n",
       "      <td>0.0</td>\n",
       "    </tr>\n",
       "    <tr>\n",
       "      <th>ABC Adult School</th>\n",
       "      <td>0.0</td>\n",
       "      <td>0.0</td>\n",
       "      <td>0.0</td>\n",
       "      <td>0.0</td>\n",
       "      <td>NaN</td>\n",
       "      <td>NaN</td>\n",
       "      <td>NaN</td>\n",
       "      <td>NaN</td>\n",
       "      <td>NaN</td>\n",
       "      <td>NaN</td>\n",
       "      <td>NaN</td>\n",
       "      <td>NaN</td>\n",
       "      <td>NaN</td>\n",
       "    </tr>\n",
       "    <tr>\n",
       "      <th>ABC Beauty Academy</th>\n",
       "      <td>0.0</td>\n",
       "      <td>0.0</td>\n",
       "      <td>0.0</td>\n",
       "      <td>0.0</td>\n",
       "      <td>0.0</td>\n",
       "      <td>NaN</td>\n",
       "      <td>0.0</td>\n",
       "      <td>0.0</td>\n",
       "      <td>0.0</td>\n",
       "      <td>0.0</td>\n",
       "      <td>0.0</td>\n",
       "      <td>0.0</td>\n",
       "      <td>NaN</td>\n",
       "    </tr>\n",
       "  </tbody>\n",
       "</table>\n",
       "</div>"
      ],
      "text/plain": [
       "                                         LOAN2020  LOAN2019  LOAN2018  \\\n",
       "Institution                                                             \n",
       "A Better U Beauty Barber Academy         259121.0  145899.0       NaN   \n",
       "A T Still University of Health Sciences       NaN       NaN       NaN   \n",
       "Aaniiih Nakoda College                        0.0       0.0       0.0   \n",
       "ABC Adult School                              0.0       0.0       0.0   \n",
       "ABC Beauty Academy                            0.0       0.0       0.0   \n",
       "\n",
       "                                         LOAN2017  LOAN2016  LOAN2015  \\\n",
       "Institution                                                             \n",
       "A Better U Beauty Barber Academy              NaN       NaN       NaN   \n",
       "A T Still University of Health Sciences       NaN       NaN       NaN   \n",
       "Aaniiih Nakoda College                        0.0       0.0       0.0   \n",
       "ABC Adult School                              0.0       NaN       NaN   \n",
       "ABC Beauty Academy                            0.0       0.0       NaN   \n",
       "\n",
       "                                         LOAN2014  LOAN2013  LOAN2012  \\\n",
       "Institution                                                             \n",
       "A Better U Beauty Barber Academy              NaN       NaN       NaN   \n",
       "A T Still University of Health Sciences       NaN       NaN       NaN   \n",
       "Aaniiih Nakoda College                        0.0       0.0       0.0   \n",
       "ABC Adult School                              NaN       NaN       NaN   \n",
       "ABC Beauty Academy                            0.0       0.0       0.0   \n",
       "\n",
       "                                         LOAN2011  LOAN2010  LOAN2009  \\\n",
       "Institution                                                             \n",
       "A Better U Beauty Barber Academy              NaN       NaN       NaN   \n",
       "A T Still University of Health Sciences       NaN       NaN       NaN   \n",
       "Aaniiih Nakoda College                        0.0       0.0       0.0   \n",
       "ABC Adult School                              NaN       NaN       NaN   \n",
       "ABC Beauty Academy                            0.0       0.0       0.0   \n",
       "\n",
       "                                         LOAN2008  \n",
       "Institution                                        \n",
       "A Better U Beauty Barber Academy              NaN  \n",
       "A T Still University of Health Sciences       NaN  \n",
       "Aaniiih Nakoda College                        0.0  \n",
       "ABC Adult School                              NaN  \n",
       "ABC Beauty Academy                            NaN  "
      ]
     },
     "execution_count": 3,
     "metadata": {},
     "output_type": "execute_result"
    }
   ],
   "source": [
    "# check first few records. \n",
    "# each row is a higher education institution.\n",
    "# column is total pell amount received by years (2020-2008)\n",
    "df.head()"
   ]
  },
  {
   "cell_type": "markdown",
   "id": "21c282d2",
   "metadata": {},
   "source": [
    "# 3. Format Data and Create New Columns"
   ]
  },
  {
   "cell_type": "code",
   "execution_count": 4,
   "id": "1d7e982e",
   "metadata": {},
   "outputs": [],
   "source": [
    "# replace NaN with 0\n",
    "df = df.fillna(0)\n",
    "\n",
    "df = df/1000000"
   ]
  },
  {
   "cell_type": "code",
   "execution_count": 5,
   "id": "4e26e50b",
   "metadata": {},
   "outputs": [],
   "source": [
    "# reverse the order of the columns in df2\n",
    "df = df.iloc[:, ::-1]\n"
   ]
  },
  {
   "cell_type": "code",
   "execution_count": 6,
   "id": "4fb8b773",
   "metadata": {},
   "outputs": [],
   "source": [
    "# create new column Pell Total which totals the Pell grant received by each institution\n",
    "df['LoanTotal'] = df.sum(axis=1)"
   ]
  },
  {
   "cell_type": "markdown",
   "id": "e051ead5",
   "metadata": {},
   "source": [
    "# 4. Top Institutions (Most Dollars Received)"
   ]
  },
  {
   "cell_type": "markdown",
   "id": "3593b102",
   "metadata": {},
   "source": [
    "### Top Institutions Returned as a DataFrame"
   ]
  },
  {
   "cell_type": "code",
   "execution_count": 7,
   "id": "a4c7acfe",
   "metadata": {},
   "outputs": [],
   "source": [
    "# Define function that will return institutions that received the most dollars in millions\n",
    "def top_inst(num): # num = number of institutions\n",
    "    top = df.sort_values(by=\"LoanTotal\",ascending=False)['LoanTotal'].to_frame().head(num)\n",
    "    return top"
   ]
  },
  {
   "cell_type": "code",
   "execution_count": 8,
   "id": "b5d7f309",
   "metadata": {},
   "outputs": [],
   "source": [
    "# top 10 institutions\n",
    "df_top = top_inst(10)"
   ]
  },
  {
   "cell_type": "code",
   "execution_count": 9,
   "id": "f10f9659",
   "metadata": {},
   "outputs": [
    {
     "data": {
      "text/html": [
       "<div>\n",
       "<style scoped>\n",
       "    .dataframe tbody tr th:only-of-type {\n",
       "        vertical-align: middle;\n",
       "    }\n",
       "\n",
       "    .dataframe tbody tr th {\n",
       "        vertical-align: top;\n",
       "    }\n",
       "\n",
       "    .dataframe thead th {\n",
       "        text-align: right;\n",
       "    }\n",
       "</style>\n",
       "<table border=\"1\" class=\"dataframe\">\n",
       "  <thead>\n",
       "    <tr style=\"text-align: right;\">\n",
       "      <th></th>\n",
       "      <th>LoanTotal</th>\n",
       "    </tr>\n",
       "    <tr>\n",
       "      <th>Institution</th>\n",
       "      <th></th>\n",
       "    </tr>\n",
       "  </thead>\n",
       "  <tbody>\n",
       "    <tr>\n",
       "      <th>University of Phoenix-Arizona</th>\n",
       "      <td>4238.023265</td>\n",
       "    </tr>\n",
       "    <tr>\n",
       "      <th>Ashford University</th>\n",
       "      <td>2843.546725</td>\n",
       "    </tr>\n",
       "    <tr>\n",
       "      <th>Liberty University</th>\n",
       "      <td>2638.693945</td>\n",
       "    </tr>\n",
       "    <tr>\n",
       "      <th>Southern New Hampshire University</th>\n",
       "      <td>2593.919195</td>\n",
       "    </tr>\n",
       "    <tr>\n",
       "      <th>Grand Canyon University</th>\n",
       "      <td>2551.238100</td>\n",
       "    </tr>\n",
       "    <tr>\n",
       "      <th>Western Governors University</th>\n",
       "      <td>1873.351416</td>\n",
       "    </tr>\n",
       "    <tr>\n",
       "      <th>University of Central Florida</th>\n",
       "      <td>1814.263614</td>\n",
       "    </tr>\n",
       "    <tr>\n",
       "      <th>Arizona State University Campus Immersion</th>\n",
       "      <td>1760.559239</td>\n",
       "    </tr>\n",
       "    <tr>\n",
       "      <th>Temple University</th>\n",
       "      <td>1653.300839</td>\n",
       "    </tr>\n",
       "    <tr>\n",
       "      <th>Texas State University</th>\n",
       "      <td>1609.142822</td>\n",
       "    </tr>\n",
       "  </tbody>\n",
       "</table>\n",
       "</div>"
      ],
      "text/plain": [
       "                                             LoanTotal\n",
       "Institution                                           \n",
       "University of Phoenix-Arizona              4238.023265\n",
       "Ashford University                         2843.546725\n",
       "Liberty University                         2638.693945\n",
       "Southern New Hampshire University          2593.919195\n",
       "Grand Canyon University                    2551.238100\n",
       "Western Governors University               1873.351416\n",
       "University of Central Florida              1814.263614\n",
       "Arizona State University Campus Immersion  1760.559239\n",
       "Temple University                          1653.300839\n",
       "Texas State University                     1609.142822"
      ]
     },
     "execution_count": 9,
     "metadata": {},
     "output_type": "execute_result"
    }
   ],
   "source": [
    "df_top"
   ]
  },
  {
   "cell_type": "markdown",
   "id": "2d0cfecc",
   "metadata": {},
   "source": [
    "### Top Institutions Plotted as a Bar Plot"
   ]
  },
  {
   "cell_type": "code",
   "execution_count": null,
   "id": "dbef87ed",
   "metadata": {},
   "outputs": [],
   "source": [
    "# function which does a bar plot of top institutions\n",
    "def plot_top(d, num):\n",
    "    \n",
    "    top = d.sort_values(by=\"LoanTotal\",ascending=False)['LoanTotal'].to_frame().head(num)\n",
    "    \n",
    "    \n",
    "    # Set the font size for the labels\n",
    "    label_fontsize = 4\n",
    "\n",
    "    # Increase the size of the graph\n",
    "    fig_width = 10\n",
    "    fig_height =8 \n",
    "    \n",
    "    plt.figure(figsize=(fig_width, fig_height))\n",
    "    plt.grid()\n",
    "\n",
    "    plt.bar(top.index, top['LoanTotal'])\n",
    "    plt.xlabel('Institution',fontsize=label_fontsize)\n",
    "    plt.ylabel('Millions')\n",
    "    plt.title(' Totals - 2008 - 2020')\n",
    "    plt.xticks(rotation=90)\n",
    "\n",
    "    # Show the labels based on the index values\n",
    "    plt.xticks(ticks=range(len(top.index)), labels=top.index)\n",
    "\n",
    "    plt.tight_layout()\n",
    "    plt.show()"
   ]
  },
  {
   "cell_type": "code",
   "execution_count": null,
   "id": "5adfc1d3",
   "metadata": {},
   "outputs": [],
   "source": [
    "plot_top(df,20)"
   ]
  },
  {
   "cell_type": "markdown",
   "id": "bc09b5a1",
   "metadata": {},
   "source": [
    "\n",
    " # 5. Individual Institutions\n",
    "    \n"
   ]
  },
  {
   "cell_type": "code",
   "execution_count": null,
   "id": "17195ed8",
   "metadata": {},
   "outputs": [],
   "source": [
    "# function Returns Pell Amount by Year\n",
    "def get_inst(d, institution):\n",
    "    row = d.loc[institution].to_frame()\n",
    "    return row"
   ]
  },
  {
   "cell_type": "code",
   "execution_count": null,
   "id": "216a286c",
   "metadata": {},
   "outputs": [],
   "source": [
    "# Example usage\n",
    "inst = \"Ashford University\"\n",
    "r = get_inst(df, inst)\n",
    "r"
   ]
  },
  {
   "cell_type": "code",
   "execution_count": null,
   "id": "6a8f6278",
   "metadata": {},
   "outputs": [],
   "source": [
    "# function plots \n",
    "def plot_inst(dataframe,institution):\n",
    "    row = dataframe.loc[institution].to_frame().drop('LoanTotal')\n",
    "    \n",
    "\n",
    "    x_values = range(len(row))\n",
    "    y_values = row.values\n",
    "\n",
    "    plt.bar(row.index, row[institution])\n",
    "    plt.xlabel('Year')\n",
    "    plt.ylabel('Loan Total (Millions)')\n",
    "    plt.title('%s' %institution)\n",
    "    plt.xticks(x_values, row.index, rotation=90)  # Set x-axis labels as column names with rotation\n",
    "    plt.tight_layout()\n",
    "    plt.show()\n",
    "    plt.tight_layout()\n",
    "    plt.show()\n"
   ]
  },
  {
   "cell_type": "code",
   "execution_count": null,
   "id": "3623e68c",
   "metadata": {},
   "outputs": [],
   "source": [
    "plot_inst(df,'Ashford University')"
   ]
  }
 ],
 "metadata": {
  "kernelspec": {
   "display_name": "Python 3 (ipykernel)",
   "language": "python",
   "name": "python3"
  },
  "language_info": {
   "codemirror_mode": {
    "name": "ipython",
    "version": 3
   },
   "file_extension": ".py",
   "mimetype": "text/x-python",
   "name": "python",
   "nbconvert_exporter": "python",
   "pygments_lexer": "ipython3",
   "version": "3.10.9"
  }
 },
 "nbformat": 4,
 "nbformat_minor": 5
}
