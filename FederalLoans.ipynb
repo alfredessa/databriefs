{
 "cells": [
  {
   "cell_type": "markdown",
   "id": "b36cbe2e",
   "metadata": {},
   "source": [
    "# 1. Import Libraries"
   ]
  },
  {
   "cell_type": "code",
   "execution_count": 1,
   "id": "a2eb6fbc",
   "metadata": {},
   "outputs": [],
   "source": [
    "# import pandas, numpy, and matplotlib libraries\n",
    "import pandas as pd\n",
    "import numpy as np\n",
    "import matplotlib.pyplot as plt"
   ]
  },
  {
   "cell_type": "markdown",
   "id": "0a62f575",
   "metadata": {},
   "source": [
    "# 2. Import Loans Data Set"
   ]
  },
  {
   "cell_type": "code",
   "execution_count": 2,
   "id": "157a8c5a",
   "metadata": {},
   "outputs": [],
   "source": [
    "# import csv vile into pandas data frame\n",
    "df = pd.read_csv(\"data/loan_totals.csv\",index_col='Institution').drop('UnitID',axis=1)"
   ]
  },
  {
   "cell_type": "code",
   "execution_count": 3,
   "id": "deffed3f",
   "metadata": {},
   "outputs": [
    {
     "data": {
      "text/html": [
       "<div>\n",
       "<style scoped>\n",
       "    .dataframe tbody tr th:only-of-type {\n",
       "        vertical-align: middle;\n",
       "    }\n",
       "\n",
       "    .dataframe tbody tr th {\n",
       "        vertical-align: top;\n",
       "    }\n",
       "\n",
       "    .dataframe thead th {\n",
       "        text-align: right;\n",
       "    }\n",
       "</style>\n",
       "<table border=\"1\" class=\"dataframe\">\n",
       "  <thead>\n",
       "    <tr style=\"text-align: right;\">\n",
       "      <th></th>\n",
       "      <th>LOAN2020</th>\n",
       "      <th>LOAN2019</th>\n",
       "      <th>LOAN2018</th>\n",
       "      <th>LOAN2017</th>\n",
       "      <th>LOAN2016</th>\n",
       "      <th>LOAN2015</th>\n",
       "      <th>LOAN2014</th>\n",
       "      <th>LOAN2013</th>\n",
       "      <th>LOAN2012</th>\n",
       "      <th>LOAN2011</th>\n",
       "      <th>LOAN2010</th>\n",
       "      <th>LOAN2009</th>\n",
       "      <th>LOAN2008</th>\n",
       "    </tr>\n",
       "    <tr>\n",
       "      <th>Institution</th>\n",
       "      <th></th>\n",
       "      <th></th>\n",
       "      <th></th>\n",
       "      <th></th>\n",
       "      <th></th>\n",
       "      <th></th>\n",
       "      <th></th>\n",
       "      <th></th>\n",
       "      <th></th>\n",
       "      <th></th>\n",
       "      <th></th>\n",
       "      <th></th>\n",
       "      <th></th>\n",
       "    </tr>\n",
       "  </thead>\n",
       "  <tbody>\n",
       "    <tr>\n",
       "      <th>A Better U Beauty Barber Academy</th>\n",
       "      <td>259121.0</td>\n",
       "      <td>145899.0</td>\n",
       "      <td>NaN</td>\n",
       "      <td>NaN</td>\n",
       "      <td>NaN</td>\n",
       "      <td>NaN</td>\n",
       "      <td>NaN</td>\n",
       "      <td>NaN</td>\n",
       "      <td>NaN</td>\n",
       "      <td>NaN</td>\n",
       "      <td>NaN</td>\n",
       "      <td>NaN</td>\n",
       "      <td>NaN</td>\n",
       "    </tr>\n",
       "    <tr>\n",
       "      <th>A T Still University of Health Sciences</th>\n",
       "      <td>NaN</td>\n",
       "      <td>NaN</td>\n",
       "      <td>NaN</td>\n",
       "      <td>NaN</td>\n",
       "      <td>NaN</td>\n",
       "      <td>NaN</td>\n",
       "      <td>NaN</td>\n",
       "      <td>NaN</td>\n",
       "      <td>NaN</td>\n",
       "      <td>NaN</td>\n",
       "      <td>NaN</td>\n",
       "      <td>NaN</td>\n",
       "      <td>NaN</td>\n",
       "    </tr>\n",
       "    <tr>\n",
       "      <th>Aaniiih Nakoda College</th>\n",
       "      <td>0.0</td>\n",
       "      <td>0.0</td>\n",
       "      <td>0.0</td>\n",
       "      <td>0.0</td>\n",
       "      <td>0.0</td>\n",
       "      <td>0.0</td>\n",
       "      <td>0.0</td>\n",
       "      <td>0.0</td>\n",
       "      <td>0.0</td>\n",
       "      <td>0.0</td>\n",
       "      <td>0.0</td>\n",
       "      <td>0.0</td>\n",
       "      <td>0.0</td>\n",
       "    </tr>\n",
       "    <tr>\n",
       "      <th>ABC Adult School</th>\n",
       "      <td>0.0</td>\n",
       "      <td>0.0</td>\n",
       "      <td>0.0</td>\n",
       "      <td>0.0</td>\n",
       "      <td>NaN</td>\n",
       "      <td>NaN</td>\n",
       "      <td>NaN</td>\n",
       "      <td>NaN</td>\n",
       "      <td>NaN</td>\n",
       "      <td>NaN</td>\n",
       "      <td>NaN</td>\n",
       "      <td>NaN</td>\n",
       "      <td>NaN</td>\n",
       "    </tr>\n",
       "    <tr>\n",
       "      <th>ABC Beauty Academy</th>\n",
       "      <td>0.0</td>\n",
       "      <td>0.0</td>\n",
       "      <td>0.0</td>\n",
       "      <td>0.0</td>\n",
       "      <td>0.0</td>\n",
       "      <td>NaN</td>\n",
       "      <td>0.0</td>\n",
       "      <td>0.0</td>\n",
       "      <td>0.0</td>\n",
       "      <td>0.0</td>\n",
       "      <td>0.0</td>\n",
       "      <td>0.0</td>\n",
       "      <td>NaN</td>\n",
       "    </tr>\n",
       "  </tbody>\n",
       "</table>\n",
       "</div>"
      ],
      "text/plain": [
       "                                         LOAN2020  LOAN2019  LOAN2018  \\\n",
       "Institution                                                             \n",
       "A Better U Beauty Barber Academy         259121.0  145899.0       NaN   \n",
       "A T Still University of Health Sciences       NaN       NaN       NaN   \n",
       "Aaniiih Nakoda College                        0.0       0.0       0.0   \n",
       "ABC Adult School                              0.0       0.0       0.0   \n",
       "ABC Beauty Academy                            0.0       0.0       0.0   \n",
       "\n",
       "                                         LOAN2017  LOAN2016  LOAN2015  \\\n",
       "Institution                                                             \n",
       "A Better U Beauty Barber Academy              NaN       NaN       NaN   \n",
       "A T Still University of Health Sciences       NaN       NaN       NaN   \n",
       "Aaniiih Nakoda College                        0.0       0.0       0.0   \n",
       "ABC Adult School                              0.0       NaN       NaN   \n",
       "ABC Beauty Academy                            0.0       0.0       NaN   \n",
       "\n",
       "                                         LOAN2014  LOAN2013  LOAN2012  \\\n",
       "Institution                                                             \n",
       "A Better U Beauty Barber Academy              NaN       NaN       NaN   \n",
       "A T Still University of Health Sciences       NaN       NaN       NaN   \n",
       "Aaniiih Nakoda College                        0.0       0.0       0.0   \n",
       "ABC Adult School                              NaN       NaN       NaN   \n",
       "ABC Beauty Academy                            0.0       0.0       0.0   \n",
       "\n",
       "                                         LOAN2011  LOAN2010  LOAN2009  \\\n",
       "Institution                                                             \n",
       "A Better U Beauty Barber Academy              NaN       NaN       NaN   \n",
       "A T Still University of Health Sciences       NaN       NaN       NaN   \n",
       "Aaniiih Nakoda College                        0.0       0.0       0.0   \n",
       "ABC Adult School                              NaN       NaN       NaN   \n",
       "ABC Beauty Academy                            0.0       0.0       0.0   \n",
       "\n",
       "                                         LOAN2008  \n",
       "Institution                                        \n",
       "A Better U Beauty Barber Academy              NaN  \n",
       "A T Still University of Health Sciences       NaN  \n",
       "Aaniiih Nakoda College                        0.0  \n",
       "ABC Adult School                              NaN  \n",
       "ABC Beauty Academy                            NaN  "
      ]
     },
     "execution_count": 3,
     "metadata": {},
     "output_type": "execute_result"
    }
   ],
   "source": [
    "# check first few records. \n",
    "# each row is a higher education institution.\n",
    "# column is total pell amount received by years (2020-2008)\n",
    "df.head()"
   ]
  },
  {
   "cell_type": "markdown",
   "id": "21c282d2",
   "metadata": {},
   "source": [
    "# 3. Format Data and Create New Columns"
   ]
  },
  {
   "cell_type": "code",
   "execution_count": 4,
   "id": "1d7e982e",
   "metadata": {},
   "outputs": [],
   "source": [
    "# replace NaN with 0\n",
    "df = df.fillna(0)\n",
    "\n",
    "df = df/1000000"
   ]
  },
  {
   "cell_type": "code",
   "execution_count": 5,
   "id": "4e26e50b",
   "metadata": {},
   "outputs": [],
   "source": [
    "# reverse the order of the columns in df2\n",
    "df = df.iloc[:, ::-1]\n"
   ]
  },
  {
   "cell_type": "code",
   "execution_count": 6,
   "id": "4fb8b773",
   "metadata": {},
   "outputs": [],
   "source": [
    "# create new column Pell Total which totals the Pell grant received by each institution\n",
    "df['LoanTotal'] = df.sum(axis=1)"
   ]
  },
  {
   "cell_type": "markdown",
   "id": "e051ead5",
   "metadata": {},
   "source": [
    "# 4. Top Institutions (Most Dollars Received)"
   ]
  },
  {
   "cell_type": "markdown",
   "id": "3593b102",
   "metadata": {},
   "source": [
    "### Top Institutions Returned as a DataFrame"
   ]
  },
  {
   "cell_type": "code",
   "execution_count": 7,
   "id": "a4c7acfe",
   "metadata": {},
   "outputs": [],
   "source": [
    "# Define function that will return institutions that received the most dollars in millions\n",
    "def top_inst(num): # num = number of institutions\n",
    "    top = df.sort_values(by=\"LoanTotal\",ascending=False)['LoanTotal'].to_frame().head(num)\n",
    "    return top"
   ]
  },
  {
   "cell_type": "code",
   "execution_count": 8,
   "id": "b5d7f309",
   "metadata": {},
   "outputs": [],
   "source": [
    "# top 10 institutions\n",
    "df_top = top_inst(10)"
   ]
  },
  {
   "cell_type": "code",
   "execution_count": 9,
   "id": "f10f9659",
   "metadata": {},
   "outputs": [
    {
     "data": {
      "text/html": [
       "<div>\n",
       "<style scoped>\n",
       "    .dataframe tbody tr th:only-of-type {\n",
       "        vertical-align: middle;\n",
       "    }\n",
       "\n",
       "    .dataframe tbody tr th {\n",
       "        vertical-align: top;\n",
       "    }\n",
       "\n",
       "    .dataframe thead th {\n",
       "        text-align: right;\n",
       "    }\n",
       "</style>\n",
       "<table border=\"1\" class=\"dataframe\">\n",
       "  <thead>\n",
       "    <tr style=\"text-align: right;\">\n",
       "      <th></th>\n",
       "      <th>LoanTotal</th>\n",
       "    </tr>\n",
       "    <tr>\n",
       "      <th>Institution</th>\n",
       "      <th></th>\n",
       "    </tr>\n",
       "  </thead>\n",
       "  <tbody>\n",
       "    <tr>\n",
       "      <th>University of Phoenix-Arizona</th>\n",
       "      <td>4238.023265</td>\n",
       "    </tr>\n",
       "    <tr>\n",
       "      <th>Ashford University</th>\n",
       "      <td>2843.546725</td>\n",
       "    </tr>\n",
       "    <tr>\n",
       "      <th>Liberty University</th>\n",
       "      <td>2638.693945</td>\n",
       "    </tr>\n",
       "    <tr>\n",
       "      <th>Southern New Hampshire University</th>\n",
       "      <td>2593.919195</td>\n",
       "    </tr>\n",
       "    <tr>\n",
       "      <th>Grand Canyon University</th>\n",
       "      <td>2551.238100</td>\n",
       "    </tr>\n",
       "    <tr>\n",
       "      <th>Western Governors University</th>\n",
       "      <td>1873.351416</td>\n",
       "    </tr>\n",
       "    <tr>\n",
       "      <th>University of Central Florida</th>\n",
       "      <td>1814.263614</td>\n",
       "    </tr>\n",
       "    <tr>\n",
       "      <th>Arizona State University Campus Immersion</th>\n",
       "      <td>1760.559239</td>\n",
       "    </tr>\n",
       "    <tr>\n",
       "      <th>Temple University</th>\n",
       "      <td>1653.300839</td>\n",
       "    </tr>\n",
       "    <tr>\n",
       "      <th>Texas State University</th>\n",
       "      <td>1609.142822</td>\n",
       "    </tr>\n",
       "  </tbody>\n",
       "</table>\n",
       "</div>"
      ],
      "text/plain": [
       "                                             LoanTotal\n",
       "Institution                                           \n",
       "University of Phoenix-Arizona              4238.023265\n",
       "Ashford University                         2843.546725\n",
       "Liberty University                         2638.693945\n",
       "Southern New Hampshire University          2593.919195\n",
       "Grand Canyon University                    2551.238100\n",
       "Western Governors University               1873.351416\n",
       "University of Central Florida              1814.263614\n",
       "Arizona State University Campus Immersion  1760.559239\n",
       "Temple University                          1653.300839\n",
       "Texas State University                     1609.142822"
      ]
     },
     "execution_count": 9,
     "metadata": {},
     "output_type": "execute_result"
    }
   ],
   "source": [
    "df_top"
   ]
  },
  {
   "cell_type": "markdown",
   "id": "2d0cfecc",
   "metadata": {},
   "source": [
    "### Top Institutions Plotted as a Bar Plot"
   ]
  },
  {
   "cell_type": "code",
   "execution_count": 10,
   "id": "dbef87ed",
   "metadata": {},
   "outputs": [],
   "source": [
    "# function which does a bar plot of top institutions\n",
    "def plot_top(d, num):\n",
    "    \n",
    "    top = d.sort_values(by=\"PellTotal\",ascending=False)['PellTotal'].to_frame().head(num)\n",
    "    \n",
    "    \n",
    "    # Set the font size for the labels\n",
    "    label_fontsize = 4\n",
    "\n",
    "    # Increase the size of the graph\n",
    "    fig_width = 10\n",
    "    fig_height =8 \n",
    "    \n",
    "    plt.figure(figsize=(fig_width, fig_height))\n",
    "    plt.grid()\n",
    "\n",
    "    plt.bar(top.index, top['LoanTotal'])\n",
    "    plt.xlabel('Institution',fontsize=label_fontsize)\n",
    "    plt.ylabel('Millions')\n",
    "    plt.title('Pell Totals - 2008 - 2020')\n",
    "    plt.xticks(rotation=90)\n",
    "\n",
    "    # Show the labels based on the index values\n",
    "    plt.xticks(ticks=range(len(top.index)), labels=top.index)\n",
    "\n",
    "    plt.tight_layout()\n",
    "    plt.show()"
   ]
  },
  {
   "cell_type": "code",
   "execution_count": 11,
   "id": "5adfc1d3",
   "metadata": {},
   "outputs": [
    {
     "ename": "KeyError",
     "evalue": "'PellTotal'",
     "output_type": "error",
     "traceback": [
      "\u001b[0;31m---------------------------------------------------------------------------\u001b[0m",
      "\u001b[0;31mKeyError\u001b[0m                                  Traceback (most recent call last)",
      "Cell \u001b[0;32mIn[11], line 1\u001b[0m\n\u001b[0;32m----> 1\u001b[0m \u001b[43mplot_top\u001b[49m\u001b[43m(\u001b[49m\u001b[43mdf\u001b[49m\u001b[43m,\u001b[49m\u001b[38;5;241;43m20\u001b[39;49m\u001b[43m)\u001b[49m\n",
      "Cell \u001b[0;32mIn[10], line 4\u001b[0m, in \u001b[0;36mplot_top\u001b[0;34m(d, num)\u001b[0m\n\u001b[1;32m      2\u001b[0m \u001b[38;5;28;01mdef\u001b[39;00m \u001b[38;5;21mplot_top\u001b[39m(d, num):\n\u001b[0;32m----> 4\u001b[0m     top \u001b[38;5;241m=\u001b[39m \u001b[43md\u001b[49m\u001b[38;5;241;43m.\u001b[39;49m\u001b[43msort_values\u001b[49m\u001b[43m(\u001b[49m\u001b[43mby\u001b[49m\u001b[38;5;241;43m=\u001b[39;49m\u001b[38;5;124;43m\"\u001b[39;49m\u001b[38;5;124;43mPellTotal\u001b[39;49m\u001b[38;5;124;43m\"\u001b[39;49m\u001b[43m,\u001b[49m\u001b[43mascending\u001b[49m\u001b[38;5;241;43m=\u001b[39;49m\u001b[38;5;28;43;01mFalse\u001b[39;49;00m\u001b[43m)\u001b[49m[\u001b[38;5;124m'\u001b[39m\u001b[38;5;124mPellTotal\u001b[39m\u001b[38;5;124m'\u001b[39m]\u001b[38;5;241m.\u001b[39mto_frame()\u001b[38;5;241m.\u001b[39mhead(num)\n\u001b[1;32m      7\u001b[0m     \u001b[38;5;66;03m# Set the font size for the labels\u001b[39;00m\n\u001b[1;32m      8\u001b[0m     label_fontsize \u001b[38;5;241m=\u001b[39m \u001b[38;5;241m4\u001b[39m\n",
      "File \u001b[0;32m~/anaconda3/lib/python3.10/site-packages/pandas/util/_decorators.py:331\u001b[0m, in \u001b[0;36mdeprecate_nonkeyword_arguments.<locals>.decorate.<locals>.wrapper\u001b[0;34m(*args, **kwargs)\u001b[0m\n\u001b[1;32m    325\u001b[0m \u001b[38;5;28;01mif\u001b[39;00m \u001b[38;5;28mlen\u001b[39m(args) \u001b[38;5;241m>\u001b[39m num_allow_args:\n\u001b[1;32m    326\u001b[0m     warnings\u001b[38;5;241m.\u001b[39mwarn(\n\u001b[1;32m    327\u001b[0m         msg\u001b[38;5;241m.\u001b[39mformat(arguments\u001b[38;5;241m=\u001b[39m_format_argument_list(allow_args)),\n\u001b[1;32m    328\u001b[0m         \u001b[38;5;167;01mFutureWarning\u001b[39;00m,\n\u001b[1;32m    329\u001b[0m         stacklevel\u001b[38;5;241m=\u001b[39mfind_stack_level(),\n\u001b[1;32m    330\u001b[0m     )\n\u001b[0;32m--> 331\u001b[0m \u001b[38;5;28;01mreturn\u001b[39;00m \u001b[43mfunc\u001b[49m\u001b[43m(\u001b[49m\u001b[38;5;241;43m*\u001b[39;49m\u001b[43margs\u001b[49m\u001b[43m,\u001b[49m\u001b[43m \u001b[49m\u001b[38;5;241;43m*\u001b[39;49m\u001b[38;5;241;43m*\u001b[39;49m\u001b[43mkwargs\u001b[49m\u001b[43m)\u001b[49m\n",
      "File \u001b[0;32m~/anaconda3/lib/python3.10/site-packages/pandas/core/frame.py:6912\u001b[0m, in \u001b[0;36mDataFrame.sort_values\u001b[0;34m(self, by, axis, ascending, inplace, kind, na_position, ignore_index, key)\u001b[0m\n\u001b[1;32m   6908\u001b[0m \u001b[38;5;28;01melif\u001b[39;00m \u001b[38;5;28mlen\u001b[39m(by):\n\u001b[1;32m   6909\u001b[0m     \u001b[38;5;66;03m# len(by) == 1\u001b[39;00m\n\u001b[1;32m   6911\u001b[0m     by \u001b[38;5;241m=\u001b[39m by[\u001b[38;5;241m0\u001b[39m]\n\u001b[0;32m-> 6912\u001b[0m     k \u001b[38;5;241m=\u001b[39m \u001b[38;5;28;43mself\u001b[39;49m\u001b[38;5;241;43m.\u001b[39;49m\u001b[43m_get_label_or_level_values\u001b[49m\u001b[43m(\u001b[49m\u001b[43mby\u001b[49m\u001b[43m,\u001b[49m\u001b[43m \u001b[49m\u001b[43maxis\u001b[49m\u001b[38;5;241;43m=\u001b[39;49m\u001b[43maxis\u001b[49m\u001b[43m)\u001b[49m\n\u001b[1;32m   6914\u001b[0m     \u001b[38;5;66;03m# need to rewrap column in Series to apply key function\u001b[39;00m\n\u001b[1;32m   6915\u001b[0m     \u001b[38;5;28;01mif\u001b[39;00m key \u001b[38;5;129;01mis\u001b[39;00m \u001b[38;5;129;01mnot\u001b[39;00m \u001b[38;5;28;01mNone\u001b[39;00m:\n\u001b[1;32m   6916\u001b[0m         \u001b[38;5;66;03m# error: Incompatible types in assignment (expression has type\u001b[39;00m\n\u001b[1;32m   6917\u001b[0m         \u001b[38;5;66;03m# \"Series\", variable has type \"ndarray\")\u001b[39;00m\n",
      "File \u001b[0;32m~/anaconda3/lib/python3.10/site-packages/pandas/core/generic.py:1850\u001b[0m, in \u001b[0;36mNDFrame._get_label_or_level_values\u001b[0;34m(self, key, axis)\u001b[0m\n\u001b[1;32m   1844\u001b[0m     values \u001b[38;5;241m=\u001b[39m (\n\u001b[1;32m   1845\u001b[0m         \u001b[38;5;28mself\u001b[39m\u001b[38;5;241m.\u001b[39maxes[axis]\n\u001b[1;32m   1846\u001b[0m         \u001b[38;5;241m.\u001b[39mget_level_values(key)  \u001b[38;5;66;03m# type: ignore[assignment]\u001b[39;00m\n\u001b[1;32m   1847\u001b[0m         \u001b[38;5;241m.\u001b[39m_values\n\u001b[1;32m   1848\u001b[0m     )\n\u001b[1;32m   1849\u001b[0m \u001b[38;5;28;01melse\u001b[39;00m:\n\u001b[0;32m-> 1850\u001b[0m     \u001b[38;5;28;01mraise\u001b[39;00m \u001b[38;5;167;01mKeyError\u001b[39;00m(key)\n\u001b[1;32m   1852\u001b[0m \u001b[38;5;66;03m# Check for duplicates\u001b[39;00m\n\u001b[1;32m   1853\u001b[0m \u001b[38;5;28;01mif\u001b[39;00m values\u001b[38;5;241m.\u001b[39mndim \u001b[38;5;241m>\u001b[39m \u001b[38;5;241m1\u001b[39m:\n",
      "\u001b[0;31mKeyError\u001b[0m: 'PellTotal'"
     ]
    }
   ],
   "source": [
    "plot_top(df,20)"
   ]
  },
  {
   "cell_type": "markdown",
   "id": "bc09b5a1",
   "metadata": {},
   "source": [
    "\n",
    " # 5. Individual Institutions\n",
    "    \n"
   ]
  },
  {
   "cell_type": "code",
   "execution_count": 12,
   "id": "17195ed8",
   "metadata": {},
   "outputs": [],
   "source": [
    "# function Returns Pell Amount by Year\n",
    "def get_inst(d, institution):\n",
    "    row = d.loc[institution].to_frame()\n",
    "    return row\n",
    "\n"
   ]
  },
  {
   "cell_type": "code",
   "execution_count": 13,
   "id": "216a286c",
   "metadata": {},
   "outputs": [
    {
     "data": {
      "text/html": [
       "<div>\n",
       "<style scoped>\n",
       "    .dataframe tbody tr th:only-of-type {\n",
       "        vertical-align: middle;\n",
       "    }\n",
       "\n",
       "    .dataframe tbody tr th {\n",
       "        vertical-align: top;\n",
       "    }\n",
       "\n",
       "    .dataframe thead th {\n",
       "        text-align: right;\n",
       "    }\n",
       "</style>\n",
       "<table border=\"1\" class=\"dataframe\">\n",
       "  <thead>\n",
       "    <tr style=\"text-align: right;\">\n",
       "      <th></th>\n",
       "      <th>Ashford University</th>\n",
       "    </tr>\n",
       "  </thead>\n",
       "  <tbody>\n",
       "    <tr>\n",
       "      <th>PELL2008</th>\n",
       "      <td>34.464176</td>\n",
       "    </tr>\n",
       "    <tr>\n",
       "      <th>PELL2009</th>\n",
       "      <td>92.063044</td>\n",
       "    </tr>\n",
       "    <tr>\n",
       "      <th>PELL2010</th>\n",
       "      <td>144.739196</td>\n",
       "    </tr>\n",
       "    <tr>\n",
       "      <th>PELL2011</th>\n",
       "      <td>167.526583</td>\n",
       "    </tr>\n",
       "    <tr>\n",
       "      <th>PELL2012</th>\n",
       "      <td>161.030937</td>\n",
       "    </tr>\n",
       "    <tr>\n",
       "      <th>PELL2013</th>\n",
       "      <td>109.039133</td>\n",
       "    </tr>\n",
       "    <tr>\n",
       "      <th>PELL2014</th>\n",
       "      <td>93.696056</td>\n",
       "    </tr>\n",
       "    <tr>\n",
       "      <th>PELL2015</th>\n",
       "      <td>73.532447</td>\n",
       "    </tr>\n",
       "    <tr>\n",
       "      <th>PELL2016</th>\n",
       "      <td>80.581515</td>\n",
       "    </tr>\n",
       "    <tr>\n",
       "      <th>PELL2017</th>\n",
       "      <td>73.524325</td>\n",
       "    </tr>\n",
       "    <tr>\n",
       "      <th>PELL2018</th>\n",
       "      <td>60.587768</td>\n",
       "    </tr>\n",
       "    <tr>\n",
       "      <th>PELL2019</th>\n",
       "      <td>48.284663</td>\n",
       "    </tr>\n",
       "    <tr>\n",
       "      <th>PELL2020</th>\n",
       "      <td>54.809263</td>\n",
       "    </tr>\n",
       "    <tr>\n",
       "      <th>PellTotal</th>\n",
       "      <td>1193.879106</td>\n",
       "    </tr>\n",
       "  </tbody>\n",
       "</table>\n",
       "</div>"
      ],
      "text/plain": [
       "           Ashford University\n",
       "PELL2008            34.464176\n",
       "PELL2009            92.063044\n",
       "PELL2010           144.739196\n",
       "PELL2011           167.526583\n",
       "PELL2012           161.030937\n",
       "PELL2013           109.039133\n",
       "PELL2014            93.696056\n",
       "PELL2015            73.532447\n",
       "PELL2016            80.581515\n",
       "PELL2017            73.524325\n",
       "PELL2018            60.587768\n",
       "PELL2019            48.284663\n",
       "PELL2020            54.809263\n",
       "PellTotal         1193.879106"
      ]
     },
     "execution_count": 13,
     "metadata": {},
     "output_type": "execute_result"
    }
   ],
   "source": [
    "# Example usage\n",
    "inst = \"Ashford University\"\n",
    "r = get_inst(df, inst)\n",
    "r"
   ]
  },
  {
   "cell_type": "code",
   "execution_count": 22,
   "id": "6a8f6278",
   "metadata": {},
   "outputs": [],
   "source": [
    "# function plots \n",
    "def plot_inst(dataframe,institution):\n",
    "    row = dataframe.loc[institution].to_frame().drop('PellTotal')\n",
    "    \n",
    "\n",
    "    x_values = range(len(row))\n",
    "    y_values = row.values\n",
    "\n",
    "    plt.bar(row.index, row[institution])\n",
    "    plt.xlabel('Year')\n",
    "    plt.ylabel('Pell Total (Millions)')\n",
    "    plt.title('%s' %institution)\n",
    "    plt.xticks(x_values, row.index, rotation=90)  # Set x-axis labels as column names with rotation\n",
    "    plt.tight_layout()\n",
    "    plt.show()\n",
    "    plt.tight_layout()\n",
    "    plt.show()\n"
   ]
  },
  {
   "cell_type": "code",
   "execution_count": 23,
   "id": "3623e68c",
   "metadata": {},
   "outputs": [
    {
     "data": {
      "image/png": "[encoded data removed]",
      "text/plain": [
       "<Figure size 640x480 with 1 Axes>"
      ]
     },
     "metadata": {},
     "output_type": "display_data"
    },
    {
     "data": {
      "text/plain": [
       "<Figure size 640x480 with 0 Axes>"
      ]
     },
     "metadata": {},
     "output_type": "display_data"
    }
   ],
   "source": [
    "plot_inst(df,'Ashford University')"
   ]
  },
  {
   "cell_type": "code",
   "execution_count": null,
   "id": "bb31edd5",
   "metadata": {},
   "outputs": [],
   "source": []
  }
 ],
 "metadata": {
  "kernelspec": {
   "display_name": "Python 3 (ipykernel)",
   "language": "python",
   "name": "python3"
  },
  "language_info": {
   "codemirror_mode": {
    "name": "ipython",
    "version": 3
   },
   "file_extension": ".py",
   "mimetype": "text/x-python",
   "name": "python",
   "nbconvert_exporter": "python",
   "pygments_lexer": "ipython3",
   "version": "3.10.9"
  }
 },
 "nbformat": 4,
 "nbformat_minor": 5
}
